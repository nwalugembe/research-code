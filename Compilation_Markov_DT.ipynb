{
 "cells": [
  {
   "cell_type": "code",
   "execution_count": 1,
   "id": "3589408a",
   "metadata": {},
   "outputs": [],
   "source": [
    "import pandas as pd\n",
    "import numpy as np"
   ]
  },
  {
   "cell_type": "code",
   "execution_count": 2,
   "id": "46252a79",
   "metadata": {},
   "outputs": [],
   "source": [
    "#The statespace\n",
    "states = [\"Performing\",\"Watch\",\"Substandard\",\"Doubtful\",\"Loss\"]\n",
    "\n",
    "#Possible sequences of events\n",
    "transitionName = [[\"PP\",\"PW\",\"PS\",\"PD\",\"PL\"],[\"WW\",\"WP\",\"WS\",\"WD\",\"WL\"],[\"SP\",\"SW\",\"SS\",\"SD\",\"SL\"],[\"DP\",\"DW\",\"DS\",\"DD\",\"DL\"],[\"LP\",\"LW\",\"LS\",\"LD\",\"LL\"]]\n",
    "\n",
    "#Probabilities Matrix (transition matrix)\n",
    "transitionMatrix = [[0.66,0.34,0,0,0],[0,0.74,0.26,0,0],[0,0,0.99,0.01,0],[0,0,0,0.996,0.004],[0,0,0,0,1]]\n"
   ]
  },
  {
   "cell_type": "code",
   "execution_count": 3,
   "id": "df16710a",
   "metadata": {},
   "outputs": [
    {
     "name": "stdout",
     "output_type": "stream",
     "text": [
      "Probality sum of each transition matrix is 1\n"
     ]
    }
   ],
   "source": [
    "#Probability check - sum of each matrix = 1\n",
    "\n",
    "if sum(transitionMatrix[0])+ sum(transitionMatrix[1]) + sum(transitionMatrix[2]) + sum(transitionMatrix[3]) + sum(transitionMatrix[4]) != 5:\n",
    "    print(\"Probability Sum of each transition Matrix should be equal to 1. Something is wrong!\")\n",
    "else: \n",
    "    print(\"Probality sum of each transition matrix is 1\")"
   ]
  },
  {
   "cell_type": "code",
   "execution_count": 4,
   "id": "98ae3971",
   "metadata": {},
   "outputs": [],
   "source": [
    "#A function that implements the Markov Model to predict the transition change in probabilities\n",
    "def transition_forecast(months):\n",
    "    #Starting transition state for each loan\n",
    "    transitionStatus = \"Performing\"\n",
    "    \n",
    "    #To store the number of state transitions taken to achieve the desired\n",
    "    transitionList = [transitionStatus]\n",
    "    i = 0\n",
    "    \n",
    "    #To store the compounded probability from the state transitions to be taken\n",
    "    prob = 1\n",
    "    \n",
    "    while i != months:\n",
    "        if transitionStatus == \"Performing\":\n",
    "            change = np.random.choice(transitionName[0],replace=True,p = transitionMatrix[0])\n",
    "            if change == \"PP\":\n",
    "                prob = prob * 0.66\n",
    "                transitionList.append(\"Performing\")\n",
    "                pass\n",
    "            elif change == \"PW\":\n",
    "                prob = prob * 0.34\n",
    "                transitionStatus = \"Watch\"\n",
    "                transitionList.append(\"Watch\")\n",
    "            elif change == \"PS\":\n",
    "                prob = prob * 1\n",
    "                transitionStatus = \"Substandard\"\n",
    "                transitionList.append(\"Substandard\")\n",
    "            elif change == \"PD\":\n",
    "                prob = prob * 1\n",
    "                transitionStatus = \"Doubtful\"\n",
    "                transitionList.append(\"Doubtful\")\n",
    "            else:\n",
    "                prob = prob * 1\n",
    "                transitionStatus = \"Loss\"\n",
    "                transitionList.append(\"Loss\")\n",
    "        elif transitionStatus == \"Watch\":\n",
    "            change = np.random.choice(transitionName[1],replace=True,p=transitionMatrix[1])\n",
    "            if change == \"WW\":\n",
    "                prob = prob * 0.74\n",
    "                transitionList.append(\"Watch\")\n",
    "                pass\n",
    "            elif change == \"WP\":\n",
    "                prob = prob * 1\n",
    "                transitionStatus = \"Performing\"\n",
    "                transitionList.append(\"Performing\")\n",
    "            elif change == \"WS\":\n",
    "                prob = prob * 0.26\n",
    "                transitionStatus = \"Substandard\"\n",
    "                transitionList.append(\"Substandard\")\n",
    "            elif change == \"WD\":\n",
    "                prob = prob * 1\n",
    "                transitionStatus = \"Doubtful\"\n",
    "                transitionList.append(\"Doubtful\")\n",
    "            else:\n",
    "                prob = prob * 1\n",
    "                transitionStatus = \"Loss\"\n",
    "                transitionList.append(\"Loss\")\n",
    "        elif transitionStatus == \"Substandard\":\n",
    "            change = np.random.choice(transitionName[2],replace=True,p=transitionMatrix[2])\n",
    "            if change == \"SS\":\n",
    "                prob = prob * 0.99\n",
    "                transitionList.append(\"Substandard\")\n",
    "                pass\n",
    "            elif change == \"SP\":\n",
    "                prob = prob * 1\n",
    "                transitionStatus = \"Performing\"\n",
    "                transitionList.append(\"Performing\")\n",
    "            elif change == \"SW\":\n",
    "                prob = prob * 1\n",
    "                transitionStatus = \"Watch\"\n",
    "                transitionList.append(\"Watch\")\n",
    "            elif change == \"SD\":\n",
    "                prob = prob * 0.01\n",
    "                transitionStatus = \"Doubtful\"\n",
    "                transitionList.append(\"Doubtful\")\n",
    "            else:\n",
    "                prob = prob * 1\n",
    "                transitionStatus = \"Loss\"\n",
    "                transitionList(\"Loss\")\n",
    "        elif transitionStatus == \"Doubtful\":\n",
    "            change = np.random.choice(transitionName[3],replace=True,p=transitionMatrix[3])\n",
    "            if change == \"DD\":\n",
    "                prob = prob * 0.966\n",
    "                transitionList.append(\"Doubtful\")\n",
    "                pass\n",
    "            elif change == \"DP\":\n",
    "                prob = prob * 1\n",
    "                transitionStatus = \"Performing\"\n",
    "                transitionList.append(\"Performing\")\n",
    "            elif change == \"DW\":\n",
    "                prob = prob * 1\n",
    "                transitionStatus = \"Watch\"\n",
    "                transitionList.append(\"Watch\")\n",
    "            else:\n",
    "                prob = prob * 0.004\n",
    "                transitionStatus = \"Loss\"\n",
    "                transitionList.append(\"Loss\")\n",
    "        else:\n",
    "            change = np.random.choice(transitionName[4],replace=True,p=transitionMatrix[4])\n",
    "            if change == \"LL\":\n",
    "                prob = prob * 1\n",
    "                transitionList.append(\"Loss\")\n",
    "                pass\n",
    "            elif change == \"LP\":\n",
    "                prob = prob * 1\n",
    "                transitionStatus = \"Performing\"\n",
    "                transitionList.append(\"Performing\")\n",
    "            elif change == \"LW\":\n",
    "                prob = prob * 1\n",
    "                transitionStatus = \"Watch\"\n",
    "                transitionList.append(\"Watch\")\n",
    "            elif change == \"LS\":\n",
    "                prob = prob * 1\n",
    "                transitionStatus = \"Substandard\"\n",
    "                transitionList.append(\"Substandard\")\n",
    "            else:\n",
    "                prob = prob * 1\n",
    "                transitionStatus = \"Loss\"\n",
    "                transitionList.append(\"Loss\")\n",
    "        i += 1\n",
    "    print(\"Loan Repayment State Transitions: \", transitionList)\n",
    "    print(\"End Loan Repayment State after \" + str(months) + \" months: \" +transitionStatus)\n",
    "    print(\"Transition probability between loan repayment states: \"+ str(prob))\n",
    "    \n",
    "    return prob"
   ]
  },
  {
   "cell_type": "code",
   "execution_count": 5,
   "id": "c2bbd019",
   "metadata": {},
   "outputs": [
    {
     "name": "stdout",
     "output_type": "stream",
     "text": [
      "Enter the loan period whose loan payment risk you would like to compute or predict: 4\n"
     ]
    }
   ],
   "source": [
    "loan_period = input(\"Enter the loan period whose loan payment risk you would like to compute or predict: \")"
   ]
  },
  {
   "cell_type": "code",
   "execution_count": 6,
   "id": "c6656665",
   "metadata": {},
   "outputs": [
    {
     "data": {
      "text/plain": [
       "'4'"
      ]
     },
     "execution_count": 6,
     "metadata": {},
     "output_type": "execute_result"
    }
   ],
   "source": [
    "loan_period"
   ]
  },
  {
   "cell_type": "code",
   "execution_count": 7,
   "id": "0d56ac10",
   "metadata": {},
   "outputs": [],
   "source": [
    "loan_period = int(loan_period)"
   ]
  },
  {
   "cell_type": "code",
   "execution_count": 8,
   "id": "4ca695a7",
   "metadata": {},
   "outputs": [
    {
     "data": {
      "text/plain": [
       "4"
      ]
     },
     "execution_count": 8,
     "metadata": {},
     "output_type": "execute_result"
    }
   ],
   "source": [
    "loan_period"
   ]
  },
  {
   "cell_type": "code",
   "execution_count": 9,
   "id": "32e27698",
   "metadata": {},
   "outputs": [
    {
     "name": "stdout",
     "output_type": "stream",
     "text": [
      "Loan Repayment State Transitions:  ['Performing', 'Performing', 'Performing', 'Watch', 'Substandard']\n",
      "End Loan Repayment State after 4 months: Substandard\n",
      "Transition probability between loan repayment states: 0.038507040000000006\n"
     ]
    }
   ],
   "source": [
    "prob = transition_forecast(loan_period)"
   ]
  },
  {
   "cell_type": "code",
   "execution_count": 10,
   "id": "3370deee",
   "metadata": {},
   "outputs": [
    {
     "data": {
      "text/plain": [
       "0.038507040000000006"
      ]
     },
     "execution_count": 10,
     "metadata": {},
     "output_type": "execute_result"
    }
   ],
   "source": [
    "prob"
   ]
  },
  {
   "cell_type": "code",
   "execution_count": 11,
   "id": "18075c3f",
   "metadata": {},
   "outputs": [],
   "source": [
    "from __future__ import print_function\n",
    "import os\n",
    "import numpy as np\n",
    "import pandas as pd"
   ]
  },
  {
   "cell_type": "code",
   "execution_count": 12,
   "id": "557775d4",
   "metadata": {},
   "outputs": [],
   "source": [
    "loan_data = pd.read_excel('Loans_Final.xlsx')"
   ]
  },
  {
   "cell_type": "code",
   "execution_count": 13,
   "id": "05e9a2b4",
   "metadata": {},
   "outputs": [
    {
     "data": {
      "text/html": [
       "<div>\n",
       "<style scoped>\n",
       "    .dataframe tbody tr th:only-of-type {\n",
       "        vertical-align: middle;\n",
       "    }\n",
       "\n",
       "    .dataframe tbody tr th {\n",
       "        vertical-align: top;\n",
       "    }\n",
       "\n",
       "    .dataframe thead th {\n",
       "        text-align: right;\n",
       "    }\n",
       "</style>\n",
       "<table border=\"1\" class=\"dataframe\">\n",
       "  <thead>\n",
       "    <tr style=\"text-align: right;\">\n",
       "      <th></th>\n",
       "      <th>0</th>\n",
       "      <th>1</th>\n",
       "      <th>2</th>\n",
       "      <th>3</th>\n",
       "      <th>4</th>\n",
       "    </tr>\n",
       "  </thead>\n",
       "  <tbody>\n",
       "    <tr>\n",
       "      <th>Acct_No</th>\n",
       "      <td>45799</td>\n",
       "      <td>46422</td>\n",
       "      <td>46473</td>\n",
       "      <td>46822</td>\n",
       "      <td>47115</td>\n",
       "    </tr>\n",
       "    <tr>\n",
       "      <th>Product_id</th>\n",
       "      <td>Agriculture Loans</td>\n",
       "      <td>Agriculture Loans</td>\n",
       "      <td>Agriculture Loans</td>\n",
       "      <td>Agriculture Loans</td>\n",
       "      <td>Agriculture Loans</td>\n",
       "    </tr>\n",
       "    <tr>\n",
       "      <th>Branch</th>\n",
       "      <td>Namutumba</td>\n",
       "      <td>Namutumba</td>\n",
       "      <td>Namutumba</td>\n",
       "      <td>Namutumba</td>\n",
       "      <td>Namutumba</td>\n",
       "    </tr>\n",
       "    <tr>\n",
       "      <th>Loan_Status</th>\n",
       "      <td>outstanding</td>\n",
       "      <td>outstanding</td>\n",
       "      <td>outstanding</td>\n",
       "      <td>outstanding</td>\n",
       "      <td>outstanding</td>\n",
       "    </tr>\n",
       "    <tr>\n",
       "      <th>created_by</th>\n",
       "      <td>Joseph Menya</td>\n",
       "      <td>Joseph Menya</td>\n",
       "      <td>Atworekire Jimmy</td>\n",
       "      <td>Joseph Menya</td>\n",
       "      <td>Ben Godfrey Kiiza</td>\n",
       "    </tr>\n",
       "    <tr>\n",
       "      <th>Effective_date</th>\n",
       "      <td>2022-06-02 13:13:54</td>\n",
       "      <td>2022-07-20 11:08:33</td>\n",
       "      <td>2022-07-21 11:34:52</td>\n",
       "      <td>2022-08-16 13:57:40</td>\n",
       "      <td>2022-08-30 17:09:43</td>\n",
       "    </tr>\n",
       "    <tr>\n",
       "      <th>Customer_No</th>\n",
       "      <td>90001630</td>\n",
       "      <td>90001835</td>\n",
       "      <td>90002102</td>\n",
       "      <td>90001970</td>\n",
       "      <td>90001462</td>\n",
       "    </tr>\n",
       "    <tr>\n",
       "      <th>Currency</th>\n",
       "      <td>UGX</td>\n",
       "      <td>UGX</td>\n",
       "      <td>UGX</td>\n",
       "      <td>UGX</td>\n",
       "      <td>UGX</td>\n",
       "    </tr>\n",
       "    <tr>\n",
       "      <th>Customer_Name</th>\n",
       "      <td>SYLIVIA SABANO</td>\n",
       "      <td>GODFREY PATRICK GALYAKI</td>\n",
       "      <td>ANDREW NGAI</td>\n",
       "      <td>MUSA MAKONZI</td>\n",
       "      <td>ANNA AKELLO</td>\n",
       "    </tr>\n",
       "    <tr>\n",
       "      <th>maturity_Date</th>\n",
       "      <td>2023-03-31 00:00:00</td>\n",
       "      <td>2023-05-20 00:00:00</td>\n",
       "      <td>2023-01-18 00:00:00</td>\n",
       "      <td>2023-06-14 00:00:00</td>\n",
       "      <td>2023-02-18 00:00:00</td>\n",
       "    </tr>\n",
       "    <tr>\n",
       "      <th>Term_Value</th>\n",
       "      <td>10</td>\n",
       "      <td>10</td>\n",
       "      <td>6</td>\n",
       "      <td>10</td>\n",
       "      <td>24</td>\n",
       "    </tr>\n",
       "    <tr>\n",
       "      <th>Term_code</th>\n",
       "      <td>Months</td>\n",
       "      <td>Months</td>\n",
       "      <td>Months</td>\n",
       "      <td>Months</td>\n",
       "      <td>Weeks</td>\n",
       "    </tr>\n",
       "    <tr>\n",
       "      <th>Disbrsmnt_Setlmnt_Acct_No</th>\n",
       "      <td>900016301101</td>\n",
       "      <td>900018351101</td>\n",
       "      <td>900021021101</td>\n",
       "      <td>900019701101</td>\n",
       "      <td>900014621102</td>\n",
       "    </tr>\n",
       "    <tr>\n",
       "      <th>Loan_Cycle</th>\n",
       "      <td>2</td>\n",
       "      <td>2</td>\n",
       "      <td>1</td>\n",
       "      <td>2</td>\n",
       "      <td>3</td>\n",
       "    </tr>\n",
       "    <tr>\n",
       "      <th>Ledger_Balance</th>\n",
       "      <td>1755550.0</td>\n",
       "      <td>378152.13</td>\n",
       "      <td>52300.0</td>\n",
       "      <td>761050.0</td>\n",
       "      <td>243200.0</td>\n",
       "    </tr>\n",
       "    <tr>\n",
       "      <th>Total_Disbursemt</th>\n",
       "      <td>3000000.0</td>\n",
       "      <td>3000000.0</td>\n",
       "      <td>2000000.0</td>\n",
       "      <td>1500000.0</td>\n",
       "      <td>1500000.0</td>\n",
       "    </tr>\n",
       "    <tr>\n",
       "      <th>Cur_Dr_Int_Rate</th>\n",
       "      <td>36</td>\n",
       "      <td>36</td>\n",
       "      <td>36</td>\n",
       "      <td>36</td>\n",
       "      <td>36</td>\n",
       "    </tr>\n",
       "    <tr>\n",
       "      <th>Int_ Type</th>\n",
       "      <td>Flat</td>\n",
       "      <td>Flat</td>\n",
       "      <td>Flat</td>\n",
       "      <td>Flat</td>\n",
       "      <td>Flat</td>\n",
       "    </tr>\n",
       "    <tr>\n",
       "      <th>Repayment_Freq_Cd</th>\n",
       "      <td>Monthly</td>\n",
       "      <td>Monthly</td>\n",
       "      <td>Monthly</td>\n",
       "      <td>Monthly</td>\n",
       "      <td>Weekly</td>\n",
       "    </tr>\n",
       "    <tr>\n",
       "      <th>Int_paid_so far</th>\n",
       "      <td>900000.0</td>\n",
       "      <td>900000.0</td>\n",
       "      <td>360000.0</td>\n",
       "      <td>450000.0</td>\n",
       "      <td>270000.0</td>\n",
       "    </tr>\n",
       "    <tr>\n",
       "      <th>Admin_Fees_Paid_So_Far</th>\n",
       "      <td>0.0</td>\n",
       "      <td>0.0</td>\n",
       "      <td>0.0</td>\n",
       "      <td>0.0</td>\n",
       "      <td>0.0</td>\n",
       "    </tr>\n",
       "    <tr>\n",
       "      <th>Repayment_Rate</th>\n",
       "      <td>70.0</td>\n",
       "      <td>90.0</td>\n",
       "      <td>70.0</td>\n",
       "      <td>50.0</td>\n",
       "      <td>70.0</td>\n",
       "    </tr>\n",
       "    <tr>\n",
       "      <th>Guarantor_1</th>\n",
       "      <td>90001591-ZALIKA NANKWANGA-MUDANGAH</td>\n",
       "      <td>90000082-MOSES-WABULELE</td>\n",
       "      <td>90001713-ISMAIL-BERU</td>\n",
       "      <td>90001998-JANET-MUTESI</td>\n",
       "      <td>90001466-JOWALI-BUKULUKI</td>\n",
       "    </tr>\n",
       "    <tr>\n",
       "      <th>Guarantor_2</th>\n",
       "      <td>90001592-MIRIKA-NANDOBYA</td>\n",
       "      <td>--</td>\n",
       "      <td>--</td>\n",
       "      <td>90001972-ZIJJA-MATIYA</td>\n",
       "      <td>90001467-MARGRET KISULE-LOGOSE</td>\n",
       "    </tr>\n",
       "  </tbody>\n",
       "</table>\n",
       "</div>"
      ],
      "text/plain": [
       "                                                            0  \\\n",
       "Acct_No                                                 45799   \n",
       "Product_id                                  Agriculture Loans   \n",
       "Branch                                              Namutumba   \n",
       "Loan_Status                                       outstanding   \n",
       "created_by                                       Joseph Menya   \n",
       "Effective_date                            2022-06-02 13:13:54   \n",
       "Customer_No                                          90001630   \n",
       "Currency                                                  UGX   \n",
       "Customer_Name                                  SYLIVIA SABANO   \n",
       "maturity_Date                             2023-03-31 00:00:00   \n",
       "Term_Value                                                 10   \n",
       "Term_code                                              Months   \n",
       "Disbrsmnt_Setlmnt_Acct_No                        900016301101   \n",
       "Loan_Cycle                                                  2   \n",
       "Ledger_Balance                                      1755550.0   \n",
       "Total_Disbursemt                                    3000000.0   \n",
       "Cur_Dr_Int_Rate                                            36   \n",
       "Int_ Type                                                Flat   \n",
       "Repayment_Freq_Cd                                     Monthly   \n",
       "Int_paid_so far                                      900000.0   \n",
       "Admin_Fees_Paid_So_Far                                    0.0   \n",
       "Repayment_Rate                                           70.0   \n",
       "Guarantor_1                90001591-ZALIKA NANKWANGA-MUDANGAH   \n",
       "Guarantor_2                          90001592-MIRIKA-NANDOBYA   \n",
       "\n",
       "                                                 1                     2  \\\n",
       "Acct_No                                      46422                 46473   \n",
       "Product_id                       Agriculture Loans     Agriculture Loans   \n",
       "Branch                                   Namutumba             Namutumba   \n",
       "Loan_Status                            outstanding           outstanding   \n",
       "created_by                            Joseph Menya      Atworekire Jimmy   \n",
       "Effective_date                 2022-07-20 11:08:33   2022-07-21 11:34:52   \n",
       "Customer_No                               90001835              90002102   \n",
       "Currency                                       UGX                   UGX   \n",
       "Customer_Name              GODFREY PATRICK GALYAKI           ANDREW NGAI   \n",
       "maturity_Date                  2023-05-20 00:00:00   2023-01-18 00:00:00   \n",
       "Term_Value                                      10                     6   \n",
       "Term_code                                   Months                Months   \n",
       "Disbrsmnt_Setlmnt_Acct_No             900018351101          900021021101   \n",
       "Loan_Cycle                                       2                     1   \n",
       "Ledger_Balance                           378152.13               52300.0   \n",
       "Total_Disbursemt                         3000000.0             2000000.0   \n",
       "Cur_Dr_Int_Rate                                 36                    36   \n",
       "Int_ Type                                     Flat                  Flat   \n",
       "Repayment_Freq_Cd                          Monthly               Monthly   \n",
       "Int_paid_so far                           900000.0              360000.0   \n",
       "Admin_Fees_Paid_So_Far                         0.0                   0.0   \n",
       "Repayment_Rate                                90.0                  70.0   \n",
       "Guarantor_1                90000082-MOSES-WABULELE  90001713-ISMAIL-BERU   \n",
       "Guarantor_2                                     --                    --   \n",
       "\n",
       "                                               3  \\\n",
       "Acct_No                                    46822   \n",
       "Product_id                     Agriculture Loans   \n",
       "Branch                                 Namutumba   \n",
       "Loan_Status                          outstanding   \n",
       "created_by                          Joseph Menya   \n",
       "Effective_date               2022-08-16 13:57:40   \n",
       "Customer_No                             90001970   \n",
       "Currency                                     UGX   \n",
       "Customer_Name                       MUSA MAKONZI   \n",
       "maturity_Date                2023-06-14 00:00:00   \n",
       "Term_Value                                    10   \n",
       "Term_code                                 Months   \n",
       "Disbrsmnt_Setlmnt_Acct_No           900019701101   \n",
       "Loan_Cycle                                     2   \n",
       "Ledger_Balance                          761050.0   \n",
       "Total_Disbursemt                       1500000.0   \n",
       "Cur_Dr_Int_Rate                               36   \n",
       "Int_ Type                                   Flat   \n",
       "Repayment_Freq_Cd                        Monthly   \n",
       "Int_paid_so far                         450000.0   \n",
       "Admin_Fees_Paid_So_Far                       0.0   \n",
       "Repayment_Rate                              50.0   \n",
       "Guarantor_1                90001998-JANET-MUTESI   \n",
       "Guarantor_2                90001972-ZIJJA-MATIYA   \n",
       "\n",
       "                                                        4  \n",
       "Acct_No                                             47115  \n",
       "Product_id                              Agriculture Loans  \n",
       "Branch                                          Namutumba  \n",
       "Loan_Status                                   outstanding  \n",
       "created_by                              Ben Godfrey Kiiza  \n",
       "Effective_date                        2022-08-30 17:09:43  \n",
       "Customer_No                                      90001462  \n",
       "Currency                                              UGX  \n",
       "Customer_Name                                 ANNA AKELLO  \n",
       "maturity_Date                         2023-02-18 00:00:00  \n",
       "Term_Value                                             24  \n",
       "Term_code                                           Weeks  \n",
       "Disbrsmnt_Setlmnt_Acct_No                    900014621102  \n",
       "Loan_Cycle                                              3  \n",
       "Ledger_Balance                                   243200.0  \n",
       "Total_Disbursemt                                1500000.0  \n",
       "Cur_Dr_Int_Rate                                        36  \n",
       "Int_ Type                                            Flat  \n",
       "Repayment_Freq_Cd                                  Weekly  \n",
       "Int_paid_so far                                  270000.0  \n",
       "Admin_Fees_Paid_So_Far                                0.0  \n",
       "Repayment_Rate                                       70.0  \n",
       "Guarantor_1                      90001466-JOWALI-BUKULUKI  \n",
       "Guarantor_2                90001467-MARGRET KISULE-LOGOSE  "
      ]
     },
     "execution_count": 13,
     "metadata": {},
     "output_type": "execute_result"
    }
   ],
   "source": [
    "loan_data.head(5).T"
   ]
  },
  {
   "cell_type": "code",
   "execution_count": 14,
   "id": "598e5cba",
   "metadata": {
    "scrolled": true
   },
   "outputs": [
    {
     "data": {
      "text/plain": [
       "object            12\n",
       "int64              5\n",
       "float64            5\n",
       "datetime64[ns]     2\n",
       "dtype: int64"
      ]
     },
     "execution_count": 14,
     "metadata": {},
     "output_type": "execute_result"
    }
   ],
   "source": [
    "loan_data.dtypes.value_counts()"
   ]
  },
  {
   "cell_type": "code",
   "execution_count": 15,
   "id": "2c930bd7",
   "metadata": {},
   "outputs": [],
   "source": [
    "loan_data = loan_data.drop([ 'Currency','Customer_Name','maturity_Date','Disbrsmnt_Setlmnt_Acct_No','Effective_date','Acct_No','Loan_Status','Term_code','Guarantor_1','Guarantor_2'], axis=1)"
   ]
  },
  {
   "cell_type": "code",
   "execution_count": 16,
   "id": "2add9b85",
   "metadata": {},
   "outputs": [
    {
     "data": {
      "text/plain": [
       "object     5\n",
       "float64    5\n",
       "int64      4\n",
       "dtype: int64"
      ]
     },
     "execution_count": 16,
     "metadata": {},
     "output_type": "execute_result"
    }
   ],
   "source": [
    "loan_data.dtypes.value_counts()"
   ]
  },
  {
   "cell_type": "code",
   "execution_count": 17,
   "id": "2239dc8b",
   "metadata": {},
   "outputs": [
    {
     "data": {
      "text/plain": [
       "(4212, 14)"
      ]
     },
     "execution_count": 17,
     "metadata": {},
     "output_type": "execute_result"
    }
   ],
   "source": [
    "loan_data.shape"
   ]
  },
  {
   "cell_type": "code",
   "execution_count": 18,
   "id": "e3744f37",
   "metadata": {},
   "outputs": [
    {
     "data": {
      "text/plain": [
       "14"
      ]
     },
     "execution_count": 18,
     "metadata": {},
     "output_type": "execute_result"
    }
   ],
   "source": [
    "loan_data.shape[1]"
   ]
  },
  {
   "cell_type": "code",
   "execution_count": 19,
   "id": "4a032152",
   "metadata": {},
   "outputs": [
    {
     "data": {
      "text/plain": [
       "Index(['Product_id', 'Branch', 'created_by', 'Int_ Type', 'Repayment_Freq_Cd'], dtype='object')"
      ]
     },
     "execution_count": 19,
     "metadata": {},
     "output_type": "execute_result"
    }
   ],
   "source": [
    "categorical_cols = loan_data.columns[loan_data.dtypes == object]\n",
    "categorical_cols"
   ]
  },
  {
   "cell_type": "code",
   "execution_count": 20,
   "id": "ea6ef99d",
   "metadata": {},
   "outputs": [
    {
     "data": {
      "text/html": [
       "<div>\n",
       "<style scoped>\n",
       "    .dataframe tbody tr th:only-of-type {\n",
       "        vertical-align: middle;\n",
       "    }\n",
       "\n",
       "    .dataframe tbody tr th {\n",
       "        vertical-align: top;\n",
       "    }\n",
       "\n",
       "    .dataframe thead th {\n",
       "        text-align: right;\n",
       "    }\n",
       "</style>\n",
       "<table border=\"1\" class=\"dataframe\">\n",
       "  <thead>\n",
       "    <tr style=\"text-align: right;\">\n",
       "      <th></th>\n",
       "      <th>Product_id</th>\n",
       "      <th>Branch</th>\n",
       "      <th>created_by</th>\n",
       "      <th>Int_ Type</th>\n",
       "      <th>Repayment_Freq_Cd</th>\n",
       "    </tr>\n",
       "  </thead>\n",
       "  <tbody>\n",
       "    <tr>\n",
       "      <th>0</th>\n",
       "      <td>Agriculture Loans</td>\n",
       "      <td>Namutumba</td>\n",
       "      <td>Joseph Menya</td>\n",
       "      <td>Flat</td>\n",
       "      <td>Monthly</td>\n",
       "    </tr>\n",
       "    <tr>\n",
       "      <th>1</th>\n",
       "      <td>Agriculture Loans</td>\n",
       "      <td>Namutumba</td>\n",
       "      <td>Joseph Menya</td>\n",
       "      <td>Flat</td>\n",
       "      <td>Monthly</td>\n",
       "    </tr>\n",
       "    <tr>\n",
       "      <th>2</th>\n",
       "      <td>Agriculture Loans</td>\n",
       "      <td>Namutumba</td>\n",
       "      <td>Atworekire Jimmy</td>\n",
       "      <td>Flat</td>\n",
       "      <td>Monthly</td>\n",
       "    </tr>\n",
       "    <tr>\n",
       "      <th>3</th>\n",
       "      <td>Agriculture Loans</td>\n",
       "      <td>Namutumba</td>\n",
       "      <td>Joseph Menya</td>\n",
       "      <td>Flat</td>\n",
       "      <td>Monthly</td>\n",
       "    </tr>\n",
       "    <tr>\n",
       "      <th>4</th>\n",
       "      <td>Agriculture Loans</td>\n",
       "      <td>Namutumba</td>\n",
       "      <td>Ben Godfrey Kiiza</td>\n",
       "      <td>Flat</td>\n",
       "      <td>Weekly</td>\n",
       "    </tr>\n",
       "    <tr>\n",
       "      <th>...</th>\n",
       "      <td>...</td>\n",
       "      <td>...</td>\n",
       "      <td>...</td>\n",
       "      <td>...</td>\n",
       "      <td>...</td>\n",
       "    </tr>\n",
       "    <tr>\n",
       "      <th>4207</th>\n",
       "      <td>Agriculture Loans</td>\n",
       "      <td>Seeta</td>\n",
       "      <td>James Nowembabazi</td>\n",
       "      <td>Flat</td>\n",
       "      <td>monthly</td>\n",
       "    </tr>\n",
       "    <tr>\n",
       "      <th>4208</th>\n",
       "      <td>Agriculture Loans</td>\n",
       "      <td>Seeta</td>\n",
       "      <td>Ivan Waiswa</td>\n",
       "      <td>Flat</td>\n",
       "      <td>monthly</td>\n",
       "    </tr>\n",
       "    <tr>\n",
       "      <th>4209</th>\n",
       "      <td>Agriculture Loans</td>\n",
       "      <td>Seeta</td>\n",
       "      <td>Stuat Beshumbusha</td>\n",
       "      <td>Flat</td>\n",
       "      <td>monthly</td>\n",
       "    </tr>\n",
       "    <tr>\n",
       "      <th>4210</th>\n",
       "      <td>Agriculture Loans</td>\n",
       "      <td>Seeta</td>\n",
       "      <td>Ivan Waiswa</td>\n",
       "      <td>Flat</td>\n",
       "      <td>monthly</td>\n",
       "    </tr>\n",
       "    <tr>\n",
       "      <th>4211</th>\n",
       "      <td>Agriculture Loans</td>\n",
       "      <td>Seeta</td>\n",
       "      <td>Ivan Waiswa</td>\n",
       "      <td>Flat</td>\n",
       "      <td>monthly</td>\n",
       "    </tr>\n",
       "  </tbody>\n",
       "</table>\n",
       "<p>4212 rows × 5 columns</p>\n",
       "</div>"
      ],
      "text/plain": [
       "              Product_id     Branch          created_by Int_ Type  \\\n",
       "0      Agriculture Loans  Namutumba        Joseph Menya      Flat   \n",
       "1      Agriculture Loans  Namutumba        Joseph Menya      Flat   \n",
       "2      Agriculture Loans  Namutumba    Atworekire Jimmy      Flat   \n",
       "3      Agriculture Loans  Namutumba        Joseph Menya      Flat   \n",
       "4      Agriculture Loans  Namutumba   Ben Godfrey Kiiza      Flat   \n",
       "...                  ...        ...                 ...       ...   \n",
       "4207   Agriculture Loans      Seeta   James Nowembabazi      Flat   \n",
       "4208   Agriculture Loans      Seeta         Ivan Waiswa      Flat   \n",
       "4209   Agriculture Loans      Seeta   Stuat Beshumbusha      Flat   \n",
       "4210   Agriculture Loans      Seeta         Ivan Waiswa      Flat   \n",
       "4211   Agriculture Loans      Seeta         Ivan Waiswa      Flat   \n",
       "\n",
       "     Repayment_Freq_Cd  \n",
       "0              Monthly  \n",
       "1              Monthly  \n",
       "2              Monthly  \n",
       "3              Monthly  \n",
       "4               Weekly  \n",
       "...                ...  \n",
       "4207           monthly  \n",
       "4208           monthly  \n",
       "4209           monthly  \n",
       "4210           monthly  \n",
       "4211           monthly  \n",
       "\n",
       "[4212 rows x 5 columns]"
      ]
     },
     "execution_count": 20,
     "metadata": {},
     "output_type": "execute_result"
    }
   ],
   "source": [
    "loan_data[categorical_cols]"
   ]
  },
  {
   "cell_type": "code",
   "execution_count": 21,
   "id": "6b85c343",
   "metadata": {},
   "outputs": [
    {
     "data": {
      "text/plain": [
       "created_by           38\n",
       "Branch                8\n",
       "Repayment_Freq_Cd     6\n",
       "Int_ Type             2\n",
       "Product_id            1\n",
       "dtype: int64"
      ]
     },
     "execution_count": 21,
     "metadata": {},
     "output_type": "execute_result"
    }
   ],
   "source": [
    "num_ohe_cols = (loan_data[categorical_cols]\n",
    "               .apply(lambda x: x.nunique())\n",
    "               .sort_values(ascending=False))\n",
    "num_ohe_cols"
   ]
  },
  {
   "cell_type": "code",
   "execution_count": 22,
   "id": "c8091fbf",
   "metadata": {},
   "outputs": [],
   "source": [
    "from sklearn.preprocessing import LabelEncoder, OneHotEncoder\n",
    "\n",
    "le = LabelEncoder()\n",
    "ohc = OneHotEncoder()\n",
    "\n",
    "ldt = loan_data.copy()\n",
    "\n",
    "for col in categorical_cols:\n",
    "    \n",
    "    ldt_ohc = le.fit_transform(ldt[col]).astype(int)\n",
    "    \n",
    "    ldt = ldt.drop(col, axis=1)\n",
    "    \n",
    "    new_dat = ohc.fit_transform(ldt_ohc.reshape(-1,1))\n",
    "    \n",
    "    n_cols = new_dat.shape[1]\n",
    "    col_names = ['_'.join([col, str(x)]) for x in range(n_cols)]\n",
    "    \n",
    "    new_df = pd.DataFrame(new_dat.toarray(),\n",
    "                         index=ldt.index,\n",
    "                         columns=col_names)\n",
    "    \n",
    "    ldt = pd.concat([ldt, new_df], axis=1)"
   ]
  },
  {
   "cell_type": "code",
   "execution_count": 23,
   "id": "c763929e",
   "metadata": {},
   "outputs": [
    {
     "data": {
      "text/plain": [
       "-50"
      ]
     },
     "execution_count": 23,
     "metadata": {},
     "output_type": "execute_result"
    }
   ],
   "source": [
    "loan_data.shape[1] - ldt.shape[1]"
   ]
  },
  {
   "cell_type": "code",
   "execution_count": 24,
   "id": "2afb6e1f",
   "metadata": {},
   "outputs": [
    {
     "data": {
      "text/plain": [
       "Index(['Customer_No', 'Term_Value', 'Loan_Cycle', 'Ledger_Balance',\n",
       "       'Total_Disbursemt', 'Cur_Dr_Int_Rate', 'Int_paid_so far',\n",
       "       'Admin_Fees_Paid_So_Far', 'Repayment_Rate', 'Product_id_0', 'Branch_0',\n",
       "       'Branch_1', 'Branch_2', 'Branch_3', 'Branch_4', 'Branch_5', 'Branch_6',\n",
       "       'Branch_7', 'created_by_0', 'created_by_1', 'created_by_2',\n",
       "       'created_by_3', 'created_by_4', 'created_by_5', 'created_by_6',\n",
       "       'created_by_7', 'created_by_8', 'created_by_9', 'created_by_10',\n",
       "       'created_by_11', 'created_by_12', 'created_by_13', 'created_by_14',\n",
       "       'created_by_15', 'created_by_16', 'created_by_17', 'created_by_18',\n",
       "       'created_by_19', 'created_by_20', 'created_by_21', 'created_by_22',\n",
       "       'created_by_23', 'created_by_24', 'created_by_25', 'created_by_26',\n",
       "       'created_by_27', 'created_by_28', 'created_by_29', 'created_by_30',\n",
       "       'created_by_31', 'created_by_32', 'created_by_33', 'created_by_34',\n",
       "       'created_by_35', 'created_by_36', 'created_by_37', 'Int_ Type_0',\n",
       "       'Int_ Type_1', 'Repayment_Freq_Cd_0', 'Repayment_Freq_Cd_1',\n",
       "       'Repayment_Freq_Cd_2', 'Repayment_Freq_Cd_3', 'Repayment_Freq_Cd_4',\n",
       "       'Repayment_Freq_Cd_5'],\n",
       "      dtype='object')"
      ]
     },
     "execution_count": 24,
     "metadata": {},
     "output_type": "execute_result"
    }
   ],
   "source": [
    "ldt.columns"
   ]
  },
  {
   "cell_type": "code",
   "execution_count": 25,
   "id": "c0460cc7",
   "metadata": {},
   "outputs": [
    {
     "data": {
      "text/plain": [
       "(4212, 64)"
      ]
     },
     "execution_count": 25,
     "metadata": {},
     "output_type": "execute_result"
    }
   ],
   "source": [
    "ldt.shape"
   ]
  },
  {
   "cell_type": "code",
   "execution_count": 26,
   "id": "5bf954e5",
   "metadata": {},
   "outputs": [],
   "source": [
    "#Creating a copy of the actual data, removing the string columns\n",
    "data = loan_data.copy()\n",
    "\n",
    "data = data.drop(categorical_cols, axis=1)"
   ]
  },
  {
   "cell_type": "code",
   "execution_count": 27,
   "id": "8d7c20c6",
   "metadata": {},
   "outputs": [],
   "source": [
    "from sklearn.model_selection import train_test_split\n",
    "\n",
    "y_col = 'Repayment_Rate'\n",
    "\n",
    "#not One Hot Encoded\n",
    "feature_cols = [x for x in data.columns if x!= y_col]\n",
    "\n",
    "X_data = data[feature_cols]\n",
    "y_data = data[y_col]\n",
    "\n",
    "X_train, X_test, y_train, y_test = train_test_split(X_data, y_data, test_size=0.3, random_state=42)\n",
    "\n",
    "#one hot encoded data\n",
    "feature_cols_ohe = [x for x in ldt.columns if x!= y_col]\n",
    "\n",
    "X_data_ohe = ldt[feature_cols_ohe]\n",
    "y_data_ohe = ldt[y_col]\n",
    "\n",
    "X_train_ohe, X_test_ohe, y_train_ohe, y_test_ohe = train_test_split(X_data_ohe, y_data_ohe, test_size=0.3, random_state=42)"
   ]
  },
  {
   "cell_type": "code",
   "execution_count": 28,
   "id": "acd0355b",
   "metadata": {},
   "outputs": [],
   "source": [
    "from sklearn.tree import DecisionTreeRegressor\n",
    "from sklearn.metrics import mean_squared_error, explained_variance_score, max_error, mean_absolute_error, mean_squared_log_error, median_absolute_error, mean_absolute_percentage_error, r2_score\n",
    "\n",
    "dtr = DecisionTreeRegressor()\n",
    "\n",
    "msr_error_list = list()\n",
    "rmse_error_list = list()\n",
    "evs_error_list = list()\n",
    "mxe_error_list = list()\n",
    "mae_error_list = list()\n",
    "msle_error_list = list()\n",
    "medAE_error_list = list()\n",
    "mape_error_list = list()\n",
    "r2_error_list = list()\n",
    "\n",
    "#Fitting non One-Hot encoded data\n",
    "dtr = dtr.fit(X_train, y_train)\n",
    "y_train_pred = dtr.predict(X_train)\n",
    "y_test_pred = dtr.predict(X_test)\n",
    "\n",
    "#Actual Sample data fit\n",
    "#x_actual = [80500472.0,8.0,1.0,625000.0,1000000.0,36.0,240000.0,0.0].reshape(-1,1)\n",
    "actual_y_pred = dtr.predict(X_test.iloc[0:1])\n",
    "\n",
    "#Method to compute the Root Mean Squared Error\n",
    "def rmse(ytrue, ypredicted):\n",
    "    return np.sqrt(mean_squared_error(ytrue, ypredicted))\n",
    "\n",
    "msr_error_list.append(pd.Series({'train': mean_squared_error(y_train ,y_train_pred, multioutput='uniform_average'),\n",
    "                            'test': mean_squared_error(y_test, y_test_pred)},\n",
    "                           name='no encoding'))\n",
    "\n",
    "rmse_error_list.append(pd.Series({'train': rmse(y_train ,y_train_pred),\n",
    "                            'test': rmse(y_test, y_test_pred)},\n",
    "                           name='no encoding'))\n",
    "\n",
    "evs_error_list.append(pd.Series({'train': explained_variance_score(y_train ,y_train_pred, multioutput='uniform_average'),\n",
    "                            'test': explained_variance_score(y_test, y_test_pred, multioutput='uniform_average')},\n",
    "                           name='no encoding'))\n",
    "\n",
    "mxe_error_list.append(pd.Series({'train': max_error(y_train ,y_train_pred),\n",
    "                            'test': max_error(y_test, y_test_pred)},\n",
    "                           name='no encoding'))\n",
    "\n",
    "mae_error_list.append(pd.Series({'train': mean_absolute_error(y_train ,y_train_pred),\n",
    "                            'test': mean_absolute_error(y_test, y_test_pred)},\n",
    "                           name='no encoding'))\n",
    "\n",
    "msle_error_list.append(pd.Series({'train': mean_squared_log_error(y_train ,y_train_pred),\n",
    "                            'test': mean_squared_log_error(y_test, y_test_pred)},\n",
    "                           name='no encoding'))\n",
    "\n",
    "medAE_error_list.append(pd.Series({'train': median_absolute_error(y_train ,y_train_pred, multioutput='uniform_average'),\n",
    "                            'test': median_absolute_error(y_test, y_test_pred, multioutput='uniform_average')},\n",
    "                           name='no encoding'))\n",
    "\n",
    "mape_error_list.append(pd.Series({'train': mean_absolute_percentage_error(y_train ,y_train_pred, multioutput='uniform_average'),\n",
    "                            'test': mean_absolute_percentage_error(y_test, y_test_pred, multioutput='uniform_average')},\n",
    "                           name='no encoding'))\n",
    "\n",
    "r2_error_list.append(pd.Series({'train': r2_score(y_train ,y_train_pred, multioutput='uniform_average'),\n",
    "                            'test': r2_score(y_test, y_test_pred, multioutput='uniform_average')},\n",
    "                           name='no encoding'))\n",
    "\n",
    "\n",
    "#Fitting One-Hot encoded data\n",
    "dtr = dtr.fit(X_train_ohe, y_train_ohe)\n",
    "y_train_pred_ohe = dtr.predict(X_train_ohe)\n",
    "y_test_pred_ohe = dtr.predict(X_test_ohe)\n",
    "\n",
    "msr_error_list.append(pd.Series({'train': mean_squared_error(y_train_ohe ,y_train_pred_ohe, multioutput='uniform_average'),\n",
    "                            'test': mean_squared_error(y_test_ohe, y_test_pred_ohe)},\n",
    "                           name='One hot encoded'))\n",
    "\n",
    "rmse_error_list.append(pd.Series({'train': rmse(y_train_ohe ,y_train_pred_ohe),\n",
    "                            'test': rmse(y_test_ohe, y_test_pred_ohe)},\n",
    "                           name='One hot encoded'))\n",
    "\n",
    "evs_error_list.append(pd.Series({'train': explained_variance_score(y_train_ohe ,y_train_pred_ohe, multioutput='uniform_average'),\n",
    "                            'test': explained_variance_score(y_test_ohe, y_test_pred_ohe, multioutput='uniform_average')},\n",
    "                           name='One hot encoded'))\n",
    "\n",
    "mxe_error_list.append(pd.Series({'train': max_error(y_train_ohe ,y_train_pred_ohe),\n",
    "                            'test': max_error(y_test_ohe, y_test_pred_ohe)},\n",
    "                           name='One hot encoded'))\n",
    "\n",
    "mae_error_list.append(pd.Series({'train': mean_absolute_error(y_train_ohe ,y_train_pred_ohe),\n",
    "                            'test': mean_absolute_error(y_test_ohe, y_test_pred_ohe)},\n",
    "                           name='One hot encoded'))\n",
    "\n",
    "msle_error_list.append(pd.Series({'train': mean_squared_log_error(y_train_ohe ,y_train_pred_ohe),\n",
    "                            'test': mean_squared_log_error(y_test_ohe, y_test_pred_ohe)},\n",
    "                           name='One hot encoded'))\n",
    "\n",
    "medAE_error_list.append(pd.Series({'train': median_absolute_error(y_train_ohe ,y_train_pred_ohe, multioutput='uniform_average'),\n",
    "                            'test': median_absolute_error(y_test_ohe, y_test_pred_ohe, multioutput='uniform_average')},\n",
    "                           name='One hot encoded'))\n",
    "\n",
    "mape_error_list.append(pd.Series({'train': mean_absolute_percentage_error(y_train_ohe ,y_train_pred_ohe, multioutput='uniform_average'),\n",
    "                            'test': mean_absolute_percentage_error(y_test_ohe, y_test_pred_ohe, multioutput='uniform_average')},\n",
    "                           name='One hot encoded'))\n",
    "\n",
    "r2_error_list.append(pd.Series({'train': r2_score(y_train_ohe ,y_train_pred_ohe, multioutput='uniform_average'),\n",
    "                            'test': r2_score(y_test_ohe, y_test_pred_ohe, multioutput='uniform_average')},\n",
    "                           name='One hot encoded'))\n",
    "\n",
    "#Assembling the results\n",
    "msr_error_list = pd.concat(msr_error_list, axis=1)\n",
    "rmse_error_list = pd.concat(rmse_error_list, axis=1)\n",
    "evs_error_list = pd.concat(evs_error_list, axis=1)\n",
    "mxe_error_list = pd.concat(mxe_error_list, axis=1)\n",
    "mae_error_list = pd.concat(mae_error_list, axis=1)\n",
    "msle_error_list = pd.concat(msle_error_list, axis=1)\n",
    "medAE_error_list = pd.concat(medAE_error_list, axis=1)\n",
    "mape_error_list = pd.concat(mape_error_list, axis=1)\n",
    "r2_error_list = pd.concat(r2_error_list, axis=1)\n",
    "\n",
    "#print('Mean Squared Error')\n",
    "#msr_error_list, evs_error_list, mxe_error_list, mae_error_list, msle_error_list, medAE_error_list, mape_error_list, r2_error_list\n",
    "#print('-'*80)\n",
    "#print(\"Expected Variance Score\")\n",
    "#evs_error_list"
   ]
  },
  {
   "cell_type": "code",
   "execution_count": 29,
   "id": "37ba9750",
   "metadata": {},
   "outputs": [
    {
     "name": "stdout",
     "output_type": "stream",
     "text": [
      "Root Mean Squared Error\n"
     ]
    },
    {
     "data": {
      "text/html": [
       "<div>\n",
       "<style scoped>\n",
       "    .dataframe tbody tr th:only-of-type {\n",
       "        vertical-align: middle;\n",
       "    }\n",
       "\n",
       "    .dataframe tbody tr th {\n",
       "        vertical-align: top;\n",
       "    }\n",
       "\n",
       "    .dataframe thead th {\n",
       "        text-align: right;\n",
       "    }\n",
       "</style>\n",
       "<table border=\"1\" class=\"dataframe\">\n",
       "  <thead>\n",
       "    <tr style=\"text-align: right;\">\n",
       "      <th></th>\n",
       "      <th>no encoding</th>\n",
       "      <th>One hot encoded</th>\n",
       "    </tr>\n",
       "  </thead>\n",
       "  <tbody>\n",
       "    <tr>\n",
       "      <th>train</th>\n",
       "      <td>2.236936</td>\n",
       "      <td>2.140063</td>\n",
       "    </tr>\n",
       "    <tr>\n",
       "      <th>test</th>\n",
       "      <td>18.282449</td>\n",
       "      <td>18.457522</td>\n",
       "    </tr>\n",
       "  </tbody>\n",
       "</table>\n",
       "</div>"
      ],
      "text/plain": [
       "       no encoding  One hot encoded\n",
       "train     2.236936         2.140063\n",
       "test     18.282449        18.457522"
      ]
     },
     "execution_count": 29,
     "metadata": {},
     "output_type": "execute_result"
    }
   ],
   "source": [
    "print(\"Root Mean Squared Error\")\n",
    "rmse_error_list"
   ]
  },
  {
   "cell_type": "code",
   "execution_count": 30,
   "id": "01469781",
   "metadata": {},
   "outputs": [
    {
     "name": "stdout",
     "output_type": "stream",
     "text": [
      "Mean Squared Error\n"
     ]
    },
    {
     "data": {
      "text/html": [
       "<div>\n",
       "<style scoped>\n",
       "    .dataframe tbody tr th:only-of-type {\n",
       "        vertical-align: middle;\n",
       "    }\n",
       "\n",
       "    .dataframe tbody tr th {\n",
       "        vertical-align: top;\n",
       "    }\n",
       "\n",
       "    .dataframe thead th {\n",
       "        text-align: right;\n",
       "    }\n",
       "</style>\n",
       "<table border=\"1\" class=\"dataframe\">\n",
       "  <thead>\n",
       "    <tr style=\"text-align: right;\">\n",
       "      <th></th>\n",
       "      <th>no encoding</th>\n",
       "      <th>One hot encoded</th>\n",
       "    </tr>\n",
       "  </thead>\n",
       "  <tbody>\n",
       "    <tr>\n",
       "      <th>train</th>\n",
       "      <td>5.003884</td>\n",
       "      <td>4.579868</td>\n",
       "    </tr>\n",
       "    <tr>\n",
       "      <th>test</th>\n",
       "      <td>334.247925</td>\n",
       "      <td>340.680114</td>\n",
       "    </tr>\n",
       "  </tbody>\n",
       "</table>\n",
       "</div>"
      ],
      "text/plain": [
       "       no encoding  One hot encoded\n",
       "train     5.003884         4.579868\n",
       "test    334.247925       340.680114"
      ]
     },
     "execution_count": 30,
     "metadata": {},
     "output_type": "execute_result"
    }
   ],
   "source": [
    "#Mean squared error regression loss.\n",
    "#A non-negative floating point value (the best value is 0.0)\n",
    "print(\"Mean Squared Error\")\n",
    "msr_error_list"
   ]
  },
  {
   "cell_type": "code",
   "execution_count": 31,
   "id": "b498979b",
   "metadata": {},
   "outputs": [
    {
     "name": "stdout",
     "output_type": "stream",
     "text": [
      "Mean Absolute Regression Error\n"
     ]
    },
    {
     "data": {
      "text/html": [
       "<div>\n",
       "<style scoped>\n",
       "    .dataframe tbody tr th:only-of-type {\n",
       "        vertical-align: middle;\n",
       "    }\n",
       "\n",
       "    .dataframe tbody tr th {\n",
       "        vertical-align: top;\n",
       "    }\n",
       "\n",
       "    .dataframe thead th {\n",
       "        text-align: right;\n",
       "    }\n",
       "</style>\n",
       "<table border=\"1\" class=\"dataframe\">\n",
       "  <thead>\n",
       "    <tr style=\"text-align: right;\">\n",
       "      <th></th>\n",
       "      <th>no encoding</th>\n",
       "      <th>One hot encoded</th>\n",
       "    </tr>\n",
       "  </thead>\n",
       "  <tbody>\n",
       "    <tr>\n",
       "      <th>train</th>\n",
       "      <td>0.400803</td>\n",
       "      <td>0.366203</td>\n",
       "    </tr>\n",
       "    <tr>\n",
       "      <th>test</th>\n",
       "      <td>14.833257</td>\n",
       "      <td>14.942012</td>\n",
       "    </tr>\n",
       "  </tbody>\n",
       "</table>\n",
       "</div>"
      ],
      "text/plain": [
       "       no encoding  One hot encoded\n",
       "train     0.400803         0.366203\n",
       "test     14.833257        14.942012"
      ]
     },
     "execution_count": 31,
     "metadata": {},
     "output_type": "execute_result"
    }
   ],
   "source": [
    "#Mean absolute error regression loss.\n",
    "#MAE output is non-negative floating point. The best value is 0.0.\n",
    "print(\"Mean Absolute Regression Error\")\n",
    "mae_error_list"
   ]
  },
  {
   "cell_type": "code",
   "execution_count": 32,
   "id": "9e93a44e",
   "metadata": {},
   "outputs": [
    {
     "name": "stdout",
     "output_type": "stream",
     "text": [
      "Explained Variance Regression Error\n"
     ]
    },
    {
     "data": {
      "text/html": [
       "<div>\n",
       "<style scoped>\n",
       "    .dataframe tbody tr th:only-of-type {\n",
       "        vertical-align: middle;\n",
       "    }\n",
       "\n",
       "    .dataframe tbody tr th {\n",
       "        vertical-align: top;\n",
       "    }\n",
       "\n",
       "    .dataframe thead th {\n",
       "        text-align: right;\n",
       "    }\n",
       "</style>\n",
       "<table border=\"1\" class=\"dataframe\">\n",
       "  <thead>\n",
       "    <tr style=\"text-align: right;\">\n",
       "      <th></th>\n",
       "      <th>no encoding</th>\n",
       "      <th>One hot encoded</th>\n",
       "    </tr>\n",
       "  </thead>\n",
       "  <tbody>\n",
       "    <tr>\n",
       "      <th>train</th>\n",
       "      <td>0.968904</td>\n",
       "      <td>0.971539</td>\n",
       "    </tr>\n",
       "    <tr>\n",
       "      <th>test</th>\n",
       "      <td>-1.032498</td>\n",
       "      <td>-1.071849</td>\n",
       "    </tr>\n",
       "  </tbody>\n",
       "</table>\n",
       "</div>"
      ],
      "text/plain": [
       "       no encoding  One hot encoded\n",
       "train     0.968904         0.971539\n",
       "test     -1.032498        -1.071849"
      ]
     },
     "execution_count": 32,
     "metadata": {},
     "output_type": "execute_result"
    }
   ],
   "source": [
    "#Explained variance regression score function.\n",
    "#Best possible score is 1.0, lower values are worse.\n",
    "print(\"Explained Variance Regression Error\")\n",
    "evs_error_list"
   ]
  },
  {
   "cell_type": "code",
   "execution_count": 33,
   "id": "11e56447",
   "metadata": {},
   "outputs": [
    {
     "name": "stdout",
     "output_type": "stream",
     "text": [
      "Maximum Residual Error\n"
     ]
    },
    {
     "data": {
      "text/html": [
       "<div>\n",
       "<style scoped>\n",
       "    .dataframe tbody tr th:only-of-type {\n",
       "        vertical-align: middle;\n",
       "    }\n",
       "\n",
       "    .dataframe tbody tr th {\n",
       "        vertical-align: top;\n",
       "    }\n",
       "\n",
       "    .dataframe thead th {\n",
       "        text-align: right;\n",
       "    }\n",
       "</style>\n",
       "<table border=\"1\" class=\"dataframe\">\n",
       "  <thead>\n",
       "    <tr style=\"text-align: right;\">\n",
       "      <th></th>\n",
       "      <th>no encoding</th>\n",
       "      <th>One hot encoded</th>\n",
       "    </tr>\n",
       "  </thead>\n",
       "  <tbody>\n",
       "    <tr>\n",
       "      <th>train</th>\n",
       "      <td>26.4</td>\n",
       "      <td>26.4</td>\n",
       "    </tr>\n",
       "    <tr>\n",
       "      <th>test</th>\n",
       "      <td>46.0</td>\n",
       "      <td>46.0</td>\n",
       "    </tr>\n",
       "  </tbody>\n",
       "</table>\n",
       "</div>"
      ],
      "text/plain": [
       "       no encoding  One hot encoded\n",
       "train         26.4             26.4\n",
       "test          46.0             46.0"
      ]
     },
     "execution_count": 33,
     "metadata": {},
     "output_type": "execute_result"
    }
   ],
   "source": [
    "#The max_error metric calculates the maximum residual error.\n",
    "#A positive floating point value (the best value is 0.0).\n",
    "print(\"Maximum Residual Error\")\n",
    "mxe_error_list"
   ]
  },
  {
   "cell_type": "code",
   "execution_count": 34,
   "id": "8e8041f2",
   "metadata": {},
   "outputs": [
    {
     "name": "stdout",
     "output_type": "stream",
     "text": [
      "Mean Squared Logarithmic error\n"
     ]
    },
    {
     "data": {
      "text/html": [
       "<div>\n",
       "<style scoped>\n",
       "    .dataframe tbody tr th:only-of-type {\n",
       "        vertical-align: middle;\n",
       "    }\n",
       "\n",
       "    .dataframe tbody tr th {\n",
       "        vertical-align: top;\n",
       "    }\n",
       "\n",
       "    .dataframe thead th {\n",
       "        text-align: right;\n",
       "    }\n",
       "</style>\n",
       "<table border=\"1\" class=\"dataframe\">\n",
       "  <thead>\n",
       "    <tr style=\"text-align: right;\">\n",
       "      <th></th>\n",
       "      <th>no encoding</th>\n",
       "      <th>One hot encoded</th>\n",
       "    </tr>\n",
       "  </thead>\n",
       "  <tbody>\n",
       "    <tr>\n",
       "      <th>train</th>\n",
       "      <td>0.000993</td>\n",
       "      <td>0.000921</td>\n",
       "    </tr>\n",
       "    <tr>\n",
       "      <th>test</th>\n",
       "      <td>0.064747</td>\n",
       "      <td>0.066137</td>\n",
       "    </tr>\n",
       "  </tbody>\n",
       "</table>\n",
       "</div>"
      ],
      "text/plain": [
       "       no encoding  One hot encoded\n",
       "train     0.000993         0.000921\n",
       "test      0.064747         0.066137"
      ]
     },
     "execution_count": 34,
     "metadata": {},
     "output_type": "execute_result"
    }
   ],
   "source": [
    "#Mean squared logarithmic error regression loss.\n",
    "print(\"Mean Squared Logarithmic error\")\n",
    "msle_error_list"
   ]
  },
  {
   "cell_type": "code",
   "execution_count": 35,
   "id": "24f3ae36",
   "metadata": {},
   "outputs": [
    {
     "name": "stdout",
     "output_type": "stream",
     "text": [
      "Median Absolute Error\n"
     ]
    },
    {
     "data": {
      "text/html": [
       "<div>\n",
       "<style scoped>\n",
       "    .dataframe tbody tr th:only-of-type {\n",
       "        vertical-align: middle;\n",
       "    }\n",
       "\n",
       "    .dataframe tbody tr th {\n",
       "        vertical-align: top;\n",
       "    }\n",
       "\n",
       "    .dataframe thead th {\n",
       "        text-align: right;\n",
       "    }\n",
       "</style>\n",
       "<table border=\"1\" class=\"dataframe\">\n",
       "  <thead>\n",
       "    <tr style=\"text-align: right;\">\n",
       "      <th></th>\n",
       "      <th>no encoding</th>\n",
       "      <th>One hot encoded</th>\n",
       "    </tr>\n",
       "  </thead>\n",
       "  <tbody>\n",
       "    <tr>\n",
       "      <th>train</th>\n",
       "      <td>0.0</td>\n",
       "      <td>0.0</td>\n",
       "    </tr>\n",
       "    <tr>\n",
       "      <th>test</th>\n",
       "      <td>14.0</td>\n",
       "      <td>13.0</td>\n",
       "    </tr>\n",
       "  </tbody>\n",
       "</table>\n",
       "</div>"
      ],
      "text/plain": [
       "       no encoding  One hot encoded\n",
       "train          0.0              0.0\n",
       "test          14.0             13.0"
      ]
     },
     "execution_count": 35,
     "metadata": {},
     "output_type": "execute_result"
    }
   ],
   "source": [
    "#Median absolute error regression loss.\n",
    "#Median absolute error output is non-negative floating point. The best value is 0.0. \n",
    "print(\"Median Absolute Error\")\n",
    "medAE_error_list"
   ]
  },
  {
   "cell_type": "code",
   "execution_count": 36,
   "id": "bd537ffa",
   "metadata": {},
   "outputs": [
    {
     "name": "stdout",
     "output_type": "stream",
     "text": [
      "Maximum Absolute Percentage Error\n"
     ]
    },
    {
     "data": {
      "text/html": [
       "<div>\n",
       "<style scoped>\n",
       "    .dataframe tbody tr th:only-of-type {\n",
       "        vertical-align: middle;\n",
       "    }\n",
       "\n",
       "    .dataframe tbody tr th {\n",
       "        vertical-align: top;\n",
       "    }\n",
       "\n",
       "    .dataframe thead th {\n",
       "        text-align: right;\n",
       "    }\n",
       "</style>\n",
       "<table border=\"1\" class=\"dataframe\">\n",
       "  <thead>\n",
       "    <tr style=\"text-align: right;\">\n",
       "      <th></th>\n",
       "      <th>no encoding</th>\n",
       "      <th>One hot encoded</th>\n",
       "    </tr>\n",
       "  </thead>\n",
       "  <tbody>\n",
       "    <tr>\n",
       "      <th>train</th>\n",
       "      <td>0.005767</td>\n",
       "      <td>0.005315</td>\n",
       "    </tr>\n",
       "    <tr>\n",
       "      <th>test</th>\n",
       "      <td>0.211129</td>\n",
       "      <td>0.212054</td>\n",
       "    </tr>\n",
       "  </tbody>\n",
       "</table>\n",
       "</div>"
      ],
      "text/plain": [
       "       no encoding  One hot encoded\n",
       "train     0.005767         0.005315\n",
       "test      0.211129         0.212054"
      ]
     },
     "execution_count": 36,
     "metadata": {},
     "output_type": "execute_result"
    }
   ],
   "source": [
    "#Mean absolute percentage error (MAPE) regression loss.\n",
    "#output is not a percentage in the range [0, 100] and a value of 100 does not mean 100% but 1e2.\n",
    "print(\"Maximum Absolute Percentage Error\")\n",
    "mape_error_list"
   ]
  },
  {
   "cell_type": "code",
   "execution_count": 37,
   "id": "4b65e9e6",
   "metadata": {},
   "outputs": [
    {
     "name": "stdout",
     "output_type": "stream",
     "text": [
      "r2 Score error value\n"
     ]
    },
    {
     "data": {
      "text/html": [
       "<div>\n",
       "<style scoped>\n",
       "    .dataframe tbody tr th:only-of-type {\n",
       "        vertical-align: middle;\n",
       "    }\n",
       "\n",
       "    .dataframe tbody tr th {\n",
       "        vertical-align: top;\n",
       "    }\n",
       "\n",
       "    .dataframe thead th {\n",
       "        text-align: right;\n",
       "    }\n",
       "</style>\n",
       "<table border=\"1\" class=\"dataframe\">\n",
       "  <thead>\n",
       "    <tr style=\"text-align: right;\">\n",
       "      <th></th>\n",
       "      <th>no encoding</th>\n",
       "      <th>One hot encoded</th>\n",
       "    </tr>\n",
       "  </thead>\n",
       "  <tbody>\n",
       "    <tr>\n",
       "      <th>train</th>\n",
       "      <td>0.968904</td>\n",
       "      <td>0.971539</td>\n",
       "    </tr>\n",
       "    <tr>\n",
       "      <th>test</th>\n",
       "      <td>-1.032740</td>\n",
       "      <td>-1.071857</td>\n",
       "    </tr>\n",
       "  </tbody>\n",
       "</table>\n",
       "</div>"
      ],
      "text/plain": [
       "       no encoding  One hot encoded\n",
       "train     0.968904         0.971539\n",
       "test     -1.032740        -1.071857"
      ]
     },
     "execution_count": 37,
     "metadata": {},
     "output_type": "execute_result"
    }
   ],
   "source": [
    "#(coefficient of determination) regression score function. \n",
    "# Best possible score is 1.0 and it can be negative (because the model can be arbitrarily worse\n",
    "print(\"r2 Score error value\")\n",
    "r2_error_list"
   ]
  },
  {
   "cell_type": "code",
   "execution_count": 40,
   "id": "020ef276",
   "metadata": {},
   "outputs": [
    {
     "name": "stdout",
     "output_type": "stream",
     "text": [
      "not encoded-standardScaler        19.350404\n",
      "not encoded-MinMaxScaler          18.380701\n",
      "not encoded-MaxAbsScaler          18.734016\n",
      "one hot encoded-standardScaler    18.916708\n",
      "one hot encoded-MinMaxScaler      18.303424\n",
      "one hot encoded-MaxAbsScaler      18.044631\n",
      "--------------------------------------------------------------------------------\n",
      "not encoded-standardScaler 19.350404172445852\n",
      "not encoded-MinMaxScaler 18.3807014409801\n",
      "not encoded-MaxAbsScaler 18.73401620294248\n",
      "one hot encoded-standardScaler 18.916708342969226\n",
      "one hot encoded-MinMaxScaler 18.30342384516493\n",
      "one hot encoded-MaxAbsScaler 18.04463112398683\n"
     ]
    }
   ],
   "source": [
    "from sklearn.preprocessing import StandardScaler, MinMaxScaler, MaxAbsScaler\n",
    "\n",
    "scalers = { 'standard': StandardScaler(),\n",
    "          'MinMax': MinMaxScaler(),\n",
    "          'MaxAbs': MaxAbsScaler()}\n",
    "\n",
    "training_test_splits = {\n",
    "    'not encoded': (X_train, y_train, X_test, y_test),\n",
    "    'one hot encoded': (X_train_ohe, y_train_ohe, X_test_ohe, y_test_ohe)\n",
    "}\n",
    "\n",
    "float_mask = X_train.dtypes == float \n",
    "float_cols = X_train.columns[float_mask]\n",
    "\n",
    "dtr_scaled = DecisionTreeRegressor()\n",
    "error ={}\n",
    "\n",
    "for encoding_label, (_X_train, _y_train, _X_test, _y_test) in training_test_splits.items():\n",
    "    for scaler_label, scaler in scalers.items():\n",
    "        training_set = _X_train.copy()\n",
    "        testing_set = _X_test.copy()\n",
    "        \n",
    "        training_set[float_cols] = scaler.fit_transform(training_set[float_cols])\n",
    "        testing_set[float_cols] = scaler.fit_transform(testing_set[float_cols])\n",
    "        \n",
    "        dtr_scaled = dtr_scaled.fit(training_set, _y_train)\n",
    "        _y_pred = dtr_scaled.predict(testing_set)\n",
    "        \n",
    "        key = encoding_label + '-' + scaler_label + 'Scaler'\n",
    "        error[key] = rmse(_y_test, _y_pred)\n",
    "        \n",
    "error = pd.Series(error)\n",
    "print(error.to_string())\n",
    "print('-' * 80)\n",
    "\n",
    "for key, error_val in error.items():\n",
    "    print(key,error_val)"
   ]
  },
  {
   "cell_type": "code",
   "execution_count": 38,
   "id": "0a033be0",
   "metadata": {},
   "outputs": [
    {
     "data": {
      "image/png": "[encoded data removed]",
      "text/plain": [
       "<Figure size 432x288 with 1 Axes>"
      ]
     },
     "metadata": {},
     "output_type": "display_data"
    }
   ],
   "source": [
    "import matplotlib.pyplot as plt\n",
    "import seaborn as sns\n",
    "%matplotlib inline\n",
    "\n",
    "\n",
    "sns.set_context('talk')\n",
    "sns.set_style('ticks')\n",
    "sns.set_palette('dark')\n",
    "\n",
    "ax = plt.axes()\n",
    "# we are going to use y_test, y_test_pred\n",
    "ax.scatter(y_test, y_test_pred, alpha=.5)\n",
    "\n",
    "ax.set(xlabel='Ground truth', \n",
    "       ylabel='Predictions',\n",
    "       title='Loan Repayment Rate Change Predictions vs Truth, using Decission Tree Regressor');"
   ]
  },
  {
   "cell_type": "code",
   "execution_count": 36,
   "id": "54fadcbc",
   "metadata": {},
   "outputs": [
    {
     "name": "stdout",
     "output_type": "stream",
     "text": [
      "Loan Repayment Risk: 16.717111063799045 %\n"
     ]
    }
   ],
   "source": [
    "#for x in actual_y_pred:\n",
    " #   RR = prob * (x/100) * 1000000\n",
    "  #  print(\"Loan Repayment Risk: \" + str((RR/1000000)*100) + \" %\")"
   ]
  },
  {
   "cell_type": "code",
   "execution_count": 39,
   "id": "fda197de",
   "metadata": {},
   "outputs": [
    {
     "name": "stdout",
     "output_type": "stream",
     "text": [
      "Enter the Loan Amount to disburse 1000000\n"
     ]
    }
   ],
   "source": [
    "loan_amount = input(\"Enter the Loan Amount to disburse \")"
   ]
  },
  {
   "cell_type": "code",
   "execution_count": 40,
   "id": "50207ad9",
   "metadata": {},
   "outputs": [],
   "source": [
    "loan_amount = float(loan_amount)"
   ]
  },
  {
   "cell_type": "code",
   "execution_count": 41,
   "id": "4af600bd",
   "metadata": {},
   "outputs": [
    {
     "data": {
      "text/plain": [
       "1000000.0"
      ]
     },
     "execution_count": 41,
     "metadata": {},
     "output_type": "execute_result"
    }
   ],
   "source": [
    "loan_amount"
   ]
  },
  {
   "cell_type": "code",
   "execution_count": 42,
   "id": "f2e5d029",
   "metadata": {},
   "outputs": [
    {
     "name": "stdout",
     "output_type": "stream",
     "text": [
      "Transition probability between loan repayment states: 0.148104\n",
      "The predicted loan repayment rate 70.0 %\n",
      "Loan Repayment Risk for the 1000000.0 loan after 4 months: 10.367280000000001 %\n"
     ]
    }
   ],
   "source": [
    "for x in actual_y_pred:\n",
    "    RR = prob * (x/100) * loan_amount\n",
    "    print(\"Transition probability between loan repayment states: \"+ str(prob))\n",
    "    print(\"The predicted loan repayment rate \" + str(x) + \" %\")\n",
    "    print(\"Loan Repayment Risk for the \" + str(loan_amount) + \" loan after \" + str(loan_period)+ \" months: \" + str((RR/loan_amount)*100) + \" %\")"
   ]
  },
  {
   "cell_type": "code",
   "execution_count": null,
   "id": "45bcab1e",
   "metadata": {},
   "outputs": [],
   "source": []
  }
 ],
 "metadata": {
  "kernelspec": {
   "display_name": "Python 3 (ipykernel)",
   "language": "python",
   "name": "python3"
  },
  "language_info": {
   "codemirror_mode": {
    "name": "ipython",
    "version": 3
   },
   "file_extension": ".py",
   "mimetype": "text/x-python",
   "name": "python",
   "nbconvert_exporter": "python",
   "pygments_lexer": "ipython3",
   "version": "3.9.12"
  }
 },
 "nbformat": 4,
 "nbformat_minor": 5
}
